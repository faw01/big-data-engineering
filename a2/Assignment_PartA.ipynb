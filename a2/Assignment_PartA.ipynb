{
 "cells": [
  {
   "cell_type": "markdown",
   "metadata": {},
   "source": [
    "### Part A\n"
   ]
  },
  {
   "cell_type": "markdown",
   "metadata": {},
   "source": [
    "#### Task 1\n"
   ]
  },
  {
   "cell_type": "markdown",
   "metadata": {},
   "source": [
    "I recommend using an embedded data model where each document represents one day of climate data, with any associated hotspot events for that day embedded as an array within the climate document.\n",
    "\n",
    "The first step in designing the schema was to identify relationships between the climate and hotspot datasets. There is a clear one-to-many relationship between them - each climate record for a given date can have zero, one, or many associated hotspot records. Embedding the hotspots within the corresponding climate document keeps this related data together and aligns the schema with the natural relationships.\n",
    "\n",
    "The key benefit of this embedded design is that it matches the primary data access patterns. The application will frequently need to retrieve the climate data for a specific date along with any hotspots that occurred. By embedding hotspots, all related data can be fetched with a single query, eliminating costly joins and reducing read operations. This is much more efficient than constantly joining climate and hotspot data from separate collections. Additionally, embedding the hotspots provides atomic updates. When new hotspot data arrives for a date, it can be pushed into the hotspots array atomically as part of a single update operation to the climate document.\n",
    "\n",
    "Embedding also simplifies the processing of streaming climate and hotspot data. As new hotspot events arrive, they can easily be appended to the hotspots array in the corresponding climate document for that day. The data is automatically structured in the optimal format for querying. A reference model would add complexity, needing to manage climate and hotspot data separately and link them.\n",
    "Additionally, embedding enables efficient determination of the cause of each fire (natural vs other). The relevant climate conditions like temperature and GHI are in the same document as the hotspot, so a simple query can check the values and set the cause field appropriately before inserting the hotspot. A reference model would require extra queries to fetch the related climate data to evaluate the fire cause.\n",
    "\n",
    "While embedding introduces some data redundancy, like repeating date information, the benefits outweigh this acceptable trade-off. The number of hotspots per day is likely small and bounded, so document sizes should stay below MongoDB's 16 MB limit. Duplication is minimal and, since climate and hotspot data are append-only, keeping duplicated data in sync is not a significant challenge.\n",
    "Finally, the embedded schema aligns with the typical usage patterns. Climate is the core dataset that will often be queried alone, while hotspots are usually accessed in the context of their climate conditions. Embedding hotspots as child data within climate documents matches this contextual relationship.\n",
    "\n",
    "In conclusion, I recommend an embedded data model for the StopFire project.\n",
    "\n",
    "Example:\n",
    "\n",
    "```\n",
    "{\n",
    "  \"_id\": ObjectId(\"663e3650c366387f1b054c70\"),\n",
    "  \"date\": ISODate(\"2023-12-13T00:00:00.000Z\"),\n",
    "  \"station\": \"948702\",\n",
    "  \"climate\": {\n",
    "    \"air_temperature_celcius\": 28,\n",
    "    \"relative_humidity\": 49.9,\n",
    "    \"windspeed_knots\": 11,\n",
    "    \"max_wind_speed\": 19,\n",
    "    \"precipitation\": \"0.00I\",\n",
    "    \"ghi_wm2\": 240\n",
    "  },\n",
    "  \"hotspots\": [\n",
    "    {\n",
    "      \"latitude\": -36.6296,\n",
    "      \"longitude\": 142.5191,\n",
    "      \"datetime\": ISODate(\"2023-12-13T00:00:00.000Z\"),\n",
    "      \"confidence\": 70,\n",
    "      \"surface_temperature_celcius\": 45\n",
    "    },\n",
    "    {\n",
    "      \"latitude\": -37.6296,\n",
    "      \"longitude\": 142.5191,\n",
    "      \"datetime\": ISODate(\"2023-12-13T00:00:00.000Z\"),\n",
    "      \"confidence\": 75,\n",
    "      \"surface_temperature_celcius\": 42\n",
    "    },\n",
    "    {\n",
    "      \"latitude\": -38.6296,\n",
    "      \"longitude\": 142.5191,\n",
    "      \"datetime\": ISODate(\"2023-12-13T00:00:00.000Z\"),\n",
    "      \"confidence\": 72,\n",
    "      \"surface_temperature_celcius\": 49\n",
    "    }\n",
    "  ]\n",
    "}\n",
    "```\n"
   ]
  },
  {
   "cell_type": "markdown",
   "metadata": {},
   "source": [
    "#### Task 2\n"
   ]
  },
  {
   "cell_type": "markdown",
   "metadata": {},
   "source": [
    "##### Task 2.1\n"
   ]
  },
  {
   "cell_type": "code",
   "execution_count": null,
   "metadata": {},
   "outputs": [],
   "source": [
    "# import all the necessary libraries\n",
    "from datetime import datetime, time\n",
    "import pprint\n",
    "import pymongo\n",
    "import pandas as pd\n",
    "import matplotlib.pyplot as plt\n",
    "import numpy as np\n",
    "import csv\n",
    "import json\n",
    "import sys\n",
    "import os"
   ]
  },
  {
   "cell_type": "code",
   "execution_count": null,
   "metadata": {},
   "outputs": [],
   "source": [
    "# change directory (local machine only)\n",
    "# os.chdir(\"A2\")\n",
    "# os.chdir(\"data\")\n",
    "\n",
    "# dirs = os.listdir(os.getcwd())\n",
    "# print(dirs)"
   ]
  },
  {
   "cell_type": "code",
   "execution_count": null,
   "metadata": {},
   "outputs": [],
   "source": [
    "hostip = \"192.168.10.125\""
   ]
  },
  {
   "cell_type": "code",
   "execution_count": null,
   "metadata": {},
   "outputs": [],
   "source": [
    "# connect to mongo\n",
    "client = pymongo.MongoClient(hostip, 27017)\n",
    "\n",
    "# drop db\n",
    "client.drop_database(\"fit3182_assignment_db\")\n",
    "\n",
    "# create a new database\n",
    "db = client[\"fit3182_assignment_db\"]\n",
    "\n",
    "# create a new collection\n",
    "collection = db[\"climate\"]"
   ]
  },
  {
   "cell_type": "code",
   "execution_count": null,
   "metadata": {},
   "outputs": [],
   "source": [
    "# drop collection\n",
    "collection.drop()"
   ]
  },
  {
   "cell_type": "code",
   "execution_count": null,
   "metadata": {},
   "outputs": [],
   "source": [
    "# helper function to convert date to datetime\n",
    "def date_to_datetime(date_obj):\n",
    "    return datetime.combine(date_obj, time(0, 0))"
   ]
  },
  {
   "cell_type": "code",
   "execution_count": null,
   "metadata": {},
   "outputs": [],
   "source": [
    "# read hotspot data and insert into mongo\n",
    "hotspot_data = pd.read_csv(\"hotspot_historic.csv\")\n",
    "\n",
    "# to store hotspot data\n",
    "hotspot_dict = {}\n",
    "\n",
    "# iterate through hotspot data and store in dictionary\n",
    "for _, row in hotspot_data.iterrows():\n",
    "\n",
    "    # convert date to datetime using helper function\n",
    "    date = date_to_datetime(datetime.strptime(row[\"date\"], \"%d/%m/%Y\").date())\n",
    "\n",
    "    # if date not in dictionary, add it\n",
    "    if date not in hotspot_dict:\n",
    "        hotspot_dict[date] = []\n",
    "\n",
    "    # append hotspot data to dictionary\n",
    "    hotspot_dict[date].append(\n",
    "        {\n",
    "            \"latitude\": row[\"latitude\"],\n",
    "            \"longitude\": row[\"longitude\"],\n",
    "            \"datetime\": datetime.strptime(\n",
    "                row[\"datetime\"], \"%Y-%m-%d %H:%M:%S\"\n",
    "            ).strftime(\"%H:%M:%S\"),\n",
    "            \"confidence\": row[\"confidence\"],\n",
    "            \"surface_temperature_celcius\": row[\"surface_temperature_celcius\"],\n",
    "        }\n",
    "    )\n",
    "\n",
    "# read climate data and insert into mongo\n",
    "climate_data = pd.read_csv(\"climate_historic.csv\")\n",
    "\n",
    "# iterate through climate data and insert into mongo, same as above\n",
    "for _, row in climate_data.iterrows():\n",
    "    date = date_to_datetime(datetime.strptime(row[\"date\"], \"%d/%m/%Y\").date())\n",
    "\n",
    "    # remove whitespace from precipitation\n",
    "    precipitation = row[\"precipitation\"].strip()\n",
    "\n",
    "    # set climate document\n",
    "    climate_doc = {\n",
    "        \"date\": date.strftime(\"%Y-%m-%dT%H:%M:%S\"),\n",
    "        \"station\": int(row[\"station\"]),\n",
    "        \"climate\": {\n",
    "            \"air_temperature_celcius\": int(row[\"air_temperature_celcius\"]),\n",
    "            \"relative_humidity\": float(row[\"relative_humidity\"]),\n",
    "            \"windspeed_knots\": float(row[\"windspeed_knots\"]),\n",
    "            \"max_wind_speed\": float(row[\"max_wind_speed\"]),\n",
    "            \"precipitation\": precipitation,\n",
    "            \"ghi_wm2\": int(row[\"GHI_w/m2\"]),\n",
    "        },\n",
    "        \"hotspots\": hotspot_dict.get(date, []),\n",
    "    }\n",
    "\n",
    "    # insert into mongo\n",
    "    collection.insert_one(climate_doc)"
   ]
  },
  {
   "cell_type": "code",
   "execution_count": null,
   "metadata": {},
   "outputs": [],
   "source": [
    "# print collection to check\n",
    "for doc in collection.find():\n",
    "    pprint.pprint(doc)"
   ]
  },
  {
   "cell_type": "markdown",
   "metadata": {},
   "source": [
    "##### Task 2.2\n"
   ]
  },
  {
   "cell_type": "markdown",
   "metadata": {},
   "source": [
    "#### a. Find climate data on 12th December 2023.\n"
   ]
  },
  {
   "cell_type": "code",
   "execution_count": null,
   "metadata": {},
   "outputs": [],
   "source": [
    "# get climate data for 12/12/2023\n",
    "query = datetime(2023, 12, 12).strftime(\"%Y-%m-%dT%H:%M:%S\")\n",
    "\n",
    "# find the document\n",
    "result = collection.find_one({\"date\": query})\n",
    "\n",
    "# print the document\n",
    "pprint.pprint(result)"
   ]
  },
  {
   "cell_type": "markdown",
   "metadata": {},
   "source": [
    "#### b. Find the latitude, longitude, surface temperature (°C), and confidence when the surface temperature (°C) was between 65 °C and 100 °C.\n"
   ]
  },
  {
   "cell_type": "code",
   "execution_count": null,
   "metadata": {},
   "outputs": [],
   "source": [
    "# get surface temperature between 65 and 100\n",
    "query = {\"hotspots.surface_temperature_celcius\": {\"$gte\": 65, \"$lte\": 100}}\n",
    "\n",
    "# projection to only show hotspots\n",
    "projection = {\"_id\": 0, \"hotspots\": 1}\n",
    "\n",
    "# find the document\n",
    "result = collection.find(query, projection)\n",
    "for doc in result:\n",
    "    for hotspot in doc[\"hotspots\"]:\n",
    "        pprint.pprint(\n",
    "            {\n",
    "                \"latitude\": hotspot[\"latitude\"],\n",
    "                \"longitude\": hotspot[\"longitude\"],\n",
    "                \"surface_temperature_celcius\": hotspot[\"surface_temperature_celcius\"],\n",
    "                \"confidence\": hotspot[\"confidence\"],\n",
    "            }\n",
    "        )"
   ]
  },
  {
   "cell_type": "markdown",
   "metadata": {},
   "source": [
    "#### c. Find date, surface temperature (°C), air temperature (°C), relative humidity and max wind speed on 15th and 16th of December 2023.\n"
   ]
  },
  {
   "cell_type": "code",
   "execution_count": null,
   "metadata": {},
   "outputs": [],
   "source": [
    "# get climate data for 15/12/2023 and 16/12/2023\n",
    "query = {\n",
    "    \"date\": {\n",
    "        \"$in\": [\n",
    "            datetime(2023, 12, 15).strftime(\"%Y-%m-%dT%H:%M:%S\"),\n",
    "            datetime(2023, 12, 16).strftime(\"%Y-%m-%dT%H:%M:%S\"),\n",
    "        ]\n",
    "    }\n",
    "}\n",
    "\n",
    "# projection to only show climate data\n",
    "projection = {\n",
    "    \"_id\": 0,\n",
    "    \"date\": 1,\n",
    "    \"hotspots.surface_temperature_celcius\": 1,\n",
    "    \"climate.air_temperature_celcius\": 1,\n",
    "    \"climate.relative_humidity\": 1,\n",
    "    \"climate.max_wind_speed\": 1,\n",
    "}\n",
    "\n",
    "result = collection.find(query, projection)\n",
    "for doc in result:\n",
    "    pprint.pprint(doc)"
   ]
  },
  {
   "cell_type": "markdown",
   "metadata": {},
   "source": [
    "#### d. Find datetime, air temperature (°C), surface temperature (°C) and confidence when the confidence is between 80 and 100.\n"
   ]
  },
  {
   "cell_type": "code",
   "execution_count": null,
   "metadata": {},
   "outputs": [],
   "source": [
    "# get confidence between 80 and 100\n",
    "query = {\"hotspots.confidence\": {\"$gte\": 80, \"$lte\": 100}}\n",
    "\n",
    "# projection to only datetime, air temperature, surface temperature, and confidence\n",
    "projection = {\n",
    "    \"_id\": 0,\n",
    "    \"hotspots.datetime\": 1,\n",
    "    \"climate.air_temperature_celcius\": 1,\n",
    "    \"hotspots.surface_temperature_celcius\": 1,\n",
    "    \"hotspots.confidence\": 1,\n",
    "}\n",
    "\n",
    "# find the document\n",
    "result_d = collection.find(query, projection)\n",
    "for doc in result_d:\n",
    "    pprint.pprint(doc)"
   ]
  },
  {
   "cell_type": "markdown",
   "metadata": {},
   "source": [
    "#### e. Find the top 10 records with the highest surface temperature (°C).\n"
   ]
  },
  {
   "cell_type": "code",
   "execution_count": null,
   "metadata": {},
   "outputs": [],
   "source": [
    "# get top 10 hotspots with highest surface temperature\n",
    "query = [\n",
    "    {\"$unwind\": \"$hotspots\"},\n",
    "    {\"$sort\": {\"hotspots.surface_temperature_celcius\": -1}},\n",
    "    {\"$limit\": 10},\n",
    "    {\"$project\": {\"_id\": 0, \"date\": 1, \"hotspots\": 1}},\n",
    "]\n",
    "\n",
    "result = collection.aggregate(query)\n",
    "\n",
    "for doc in result:\n",
    "    pprint.pprint(doc)"
   ]
  },
  {
   "cell_type": "markdown",
   "metadata": {},
   "source": [
    "#### f. Find the number of fires each day. You are required to only display the total number of fires and the date in the output.\n"
   ]
  },
  {
   "cell_type": "code",
   "execution_count": null,
   "metadata": {},
   "outputs": [],
   "source": [
    "# get number of fires for each date\n",
    "query = [{\"$project\": {\"_id\": 0, \"date\": 1, \"number_of_fires\": {\"$size\": \"$hotspots\"}}}]\n",
    "\n",
    "result = collection.aggregate(query)\n",
    "\n",
    "for doc in result:\n",
    "    pprint.pprint(doc)"
   ]
  },
  {
   "cell_type": "markdown",
   "metadata": {},
   "source": [
    "### g. Find the records of fires where the confidence is below 70.\n"
   ]
  },
  {
   "cell_type": "code",
   "execution_count": null,
   "metadata": {},
   "outputs": [],
   "source": [
    "# get average surface temperature for each date\n",
    "query = {\"hotspots.confidence\": {\"$lte\": 70}}\n",
    "\n",
    "projection = {\n",
    "    \"_id\": 0,\n",
    "    \"date\": 1,\n",
    "    \"hotspots\": {\"$elemMatch\": {\"confidence\": {\"$lte\": 70}}},\n",
    "}\n",
    "\n",
    "result = collection.find(query, projection)\n",
    "\n",
    "for doc in result:\n",
    "    pprint.pprint(doc)"
   ]
  },
  {
   "cell_type": "markdown",
   "metadata": {},
   "source": [
    "#### h. Find the average surface temperature (°C) for each day. You are required to only display average surface temperature (°C) and the date in the output.\n"
   ]
  },
  {
   "cell_type": "code",
   "execution_count": null,
   "metadata": {},
   "outputs": [],
   "source": [
    "# get average surface temperature for each date\n",
    "query = [\n",
    "    {\"$unwind\": \"$hotspots\"},\n",
    "    {\n",
    "        \"$group\": {\n",
    "            \"_id\": \"$date\",\n",
    "            \"average_surface_temperature\": {\n",
    "                \"$avg\": \"$hotspots.surface_temperature_celcius\"\n",
    "            },\n",
    "        }\n",
    "    },\n",
    "    {\"$project\": {\"_id\": 0, \"date\": \"$_id\", \"average_surface_temperature\": 1}},\n",
    "]\n",
    "\n",
    "result = collection.aggregate(query)\n",
    "\n",
    "for doc in result:\n",
    "    pprint.pprint(doc)"
   ]
  },
  {
   "cell_type": "markdown",
   "metadata": {},
   "source": [
    "#### i. Find the top 10 records with the lowest GHI.\n"
   ]
  },
  {
   "cell_type": "code",
   "execution_count": null,
   "metadata": {},
   "outputs": [],
   "source": [
    "# get average surface temperature for each date\n",
    "query = collection.find().sort(\"climate.ghi_wm2\", 1).limit(10)\n",
    "\n",
    "for result in query:\n",
    "    pprint.pprint(result)"
   ]
  },
  {
   "cell_type": "markdown",
   "metadata": {},
   "source": [
    "#### j. Find the records with a 24-hour precipitation recorded between 0.20 to 0.35.\n"
   ]
  },
  {
   "cell_type": "code",
   "execution_count": null,
   "metadata": {},
   "outputs": [],
   "source": [
    "# get average surface temperature for each date\n",
    "query = {\"climate.precipitation\": {\"$gte\": \"0.20G\", \"$lte\": \"0.35G\"}}\n",
    "\n",
    "projection = {\"_id\": 0, \"date\": 1, \"climate.precipitation\": 1}\n",
    "\n",
    "result = collection.find(query)\n",
    "\n",
    "for doc in result:\n",
    "    pprint.pprint(doc)"
   ]
  },
  {
   "cell_type": "code",
   "execution_count": null,
   "metadata": {},
   "outputs": [],
   "source": [
    "# latest date for streaming\n",
    "query = collection.find({}, {\"_id\": 0, \"date\": 1}).sort(\"date\", -1).limit(1)\n",
    "\n",
    "for result in query:\n",
    "    pprint.pprint(result)"
   ]
  },
  {
   "cell_type": "markdown",
   "metadata": {},
   "source": [
    "##### Task 2.3\n"
   ]
  },
  {
   "cell_type": "markdown",
   "metadata": {},
   "source": [
    "Assuming a high data ingestation rate, I recommend creating a compound index on `date` and `hotspots.surface_temperature_celcius` for optimisation. Indexes are used to speed up operations, particularly the retrieval of operations in a MongoDB collection. This compound index combines the highly selective/unique `date` field with the high-cardinality and non-repetitive `hotspots.surface_temperature_celcius` field, making it an ideal choice for the StopFire campaign's fire prediction and analysis needs.\n",
    "\n",
    "Queries that involve both the `date` and `hotspots.surface_temperature_celcius` fields will benefit greatly from this index. The database can quickly narrow down the search results based on the specific date and surface temperature range, reducing the number of documents scanned and improving query performance. Furthermore, it could also be used in the future to enable effective fire prediction, analysis, and data modelling.\n"
   ]
  },
  {
   "cell_type": "code",
   "execution_count": null,
   "metadata": {},
   "outputs": [],
   "source": [
    "from pymongo import ASCENDING, DESCENDING\n",
    "\n",
    "# drop all indexes\n",
    "collection.drop_indexes()\n",
    "\n",
    "# create the compound index on `date` and `hotspots.surface_temperature_celcius`\n",
    "collection.create_index(\n",
    "    [(\"date\", ASCENDING), (\"hotspots.surface_temperature_celcius\", ASCENDING)]\n",
    ")"
   ]
  },
  {
   "cell_type": "markdown",
   "metadata": {},
   "source": [
    "### References\n"
   ]
  },
  {
   "cell_type": "markdown",
   "metadata": {},
   "source": [
    "https://www.mongodb.com/blog/post/performance-best-practices-indexing\n"
   ]
  }
 ],
 "metadata": {
  "kernelspec": {
   "display_name": "Python 3 (ipykernel)",
   "language": "python",
   "name": "python3"
  }
 },
 "nbformat": 4,
 "nbformat_minor": 2
}
