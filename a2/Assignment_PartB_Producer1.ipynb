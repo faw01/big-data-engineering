{
 "cells": [
  {
   "cell_type": "markdown",
   "metadata": {},
   "source": [
    "### Part B\n"
   ]
  },
  {
   "cell_type": "markdown",
   "metadata": {},
   "source": [
    "#### Producer 1\n"
   ]
  },
  {
   "cell_type": "code",
   "execution_count": null,
   "metadata": {},
   "outputs": [],
   "source": [
    "from time import sleep\n",
    "from json import dumps\n",
    "from kafka3 import KafkaProducer\n",
    "import random\n",
    "import datetime as dt\n",
    "import os\n",
    "import pandas as pd"
   ]
  },
  {
   "cell_type": "code",
   "execution_count": null,
   "metadata": {},
   "outputs": [],
   "source": [
    "# change directory (local machine only)\n",
    "# os.chdir(\"A2\")\n",
    "# os.chdir(\"data\")\n",
    "\n",
    "# dirs = os.listdir(os.getcwd())\n",
    "# print(dirs)"
   ]
  },
  {
   "cell_type": "code",
   "execution_count": null,
   "metadata": {},
   "outputs": [],
   "source": [
    "hostip = \"192.168.10.125\""
   ]
  },
  {
   "cell_type": "code",
   "execution_count": null,
   "metadata": {},
   "outputs": [],
   "source": [
    "# reference code taken from FIT3182 applied session week 10\n",
    "def publish_message(producer_instance, topic_name, key, value):\n",
    "    try:\n",
    "        key_bytes = bytes(key, encoding=\"utf-8\")\n",
    "        value_bytes = bytes(value, encoding=\"utf-8\")\n",
    "        producer_instance.send(topic_name, key=key_bytes, value=value_bytes)\n",
    "        producer_instance.flush()\n",
    "        print(\"Message published successfully. Data: \" + str(value))\n",
    "    except Exception as ex:\n",
    "        print(\"Exception in publishing message.\")\n",
    "        print(str(ex))\n",
    "\n",
    "\n",
    "# reference code taken from FIT3182 applied session week 10\n",
    "def connect_kafka_producer():\n",
    "    _producer = None\n",
    "    try:\n",
    "        _producer = KafkaProducer(\n",
    "            bootstrap_servers=[f\"{hostip}:9092\"], api_version=(0, 10)\n",
    "        )\n",
    "    except Exception as ex:\n",
    "        print(\"Exception while connecting Kafka.\")\n",
    "        print(str(ex))\n",
    "    finally:\n",
    "        return _producer\n",
    "\n",
    "\n",
    "if __name__ == \"__main__\":\n",
    "    topic = \"climate\"\n",
    "    print(\"Publishing climate records..\")\n",
    "    producer = connect_kafka_producer()\n",
    "\n",
    "    # latest date from climate csv (calculated from query)\n",
    "    latest_date = dt.datetime(2024, 1, 1)\n",
    "\n",
    "    data = pd.read_csv(\"climate_streaming.csv\")\n",
    "\n",
    "    # feeding data loop\n",
    "    while True:\n",
    "        # randomly feed data (with replacement)\n",
    "        row = data.sample(n=1).to_dict(orient=\"records\")[0]\n",
    "\n",
    "        # append producer information to identify the producer\n",
    "        row[\"producer_id\"] = \"climate_producer\"\n",
    "\n",
    "        # append the new date to the row\n",
    "        row[\"created_date\"] = latest_date.strftime(\"%Y-%m-%d\")\n",
    "\n",
    "        # call the publish_message function for encoding and sending the message\n",
    "        publish_message(producer, topic, \"parsed\", dumps(row))\n",
    "\n",
    "        # since every 10 seconds = 1 day, new_date = latest date in climate data + 1 day\n",
    "        latest_date += dt.timedelta(days=1)\n",
    "\n",
    "        # wait 10 seconds before proceeding\n",
    "        sleep(10)"
   ]
  }
 ],
 "metadata": {
  "kernelspec": {
   "display_name": "Python 3 (ipykernel)",
   "language": "python",
   "name": "python3"
  },
  "language_info": {
   "codemirror_mode": {
    "name": "ipython",
    "version": 3
   },
   "file_extension": ".py",
   "mimetype": "text/x-python",
   "name": "python",
   "nbconvert_exporter": "python",
   "pygments_lexer": "ipython3",
   "version": "3.8.16"
  }
 },
 "nbformat": 4,
 "nbformat_minor": 2
}
